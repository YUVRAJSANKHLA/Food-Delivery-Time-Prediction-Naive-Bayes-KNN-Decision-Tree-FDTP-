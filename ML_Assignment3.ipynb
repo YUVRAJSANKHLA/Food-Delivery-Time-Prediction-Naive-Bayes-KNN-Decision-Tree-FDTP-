{
  "cells": [
    {
      "cell_type": "markdown",
      "source": [
        "**Phase 1: Data Preprocessing**"
      ],
      "metadata": {
        "id": "KHMcsGTe8BED"
      }
    },
    {
      "cell_type": "code",
      "source": [
        "from google.colab import files\n",
        "uploaded = files.upload()\n"
      ],
      "metadata": {
        "colab": {
          "base_uri": "https://localhost:8080/",
          "height": 73
        },
        "id": "FRL8yQ1MnspI",
        "outputId": "f399e07c-9c40-4771-f876-9ad9bd1d6fe5"
      },
      "execution_count": null,
      "outputs": [
        {
          "output_type": "display_data",
          "data": {
            "text/plain": [
              "<IPython.core.display.HTML object>"
            ],
            "text/html": [
              "\n",
              "     <input type=\"file\" id=\"files-8ae69998-a705-4f39-9283-bca1c0a9978e\" name=\"files[]\" multiple disabled\n",
              "        style=\"border:none\" />\n",
              "     <output id=\"result-8ae69998-a705-4f39-9283-bca1c0a9978e\">\n",
              "      Upload widget is only available when the cell has been executed in the\n",
              "      current browser session. Please rerun this cell to enable.\n",
              "      </output>\n",
              "      <script>// Copyright 2017 Google LLC\n",
              "//\n",
              "// Licensed under the Apache License, Version 2.0 (the \"License\");\n",
              "// you may not use this file except in compliance with the License.\n",
              "// You may obtain a copy of the License at\n",
              "//\n",
              "//      http://www.apache.org/licenses/LICENSE-2.0\n",
              "//\n",
              "// Unless required by applicable law or agreed to in writing, software\n",
              "// distributed under the License is distributed on an \"AS IS\" BASIS,\n",
              "// WITHOUT WARRANTIES OR CONDITIONS OF ANY KIND, either express or implied.\n",
              "// See the License for the specific language governing permissions and\n",
              "// limitations under the License.\n",
              "\n",
              "/**\n",
              " * @fileoverview Helpers for google.colab Python module.\n",
              " */\n",
              "(function(scope) {\n",
              "function span(text, styleAttributes = {}) {\n",
              "  const element = document.createElement('span');\n",
              "  element.textContent = text;\n",
              "  for (const key of Object.keys(styleAttributes)) {\n",
              "    element.style[key] = styleAttributes[key];\n",
              "  }\n",
              "  return element;\n",
              "}\n",
              "\n",
              "// Max number of bytes which will be uploaded at a time.\n",
              "const MAX_PAYLOAD_SIZE = 100 * 1024;\n",
              "\n",
              "function _uploadFiles(inputId, outputId) {\n",
              "  const steps = uploadFilesStep(inputId, outputId);\n",
              "  const outputElement = document.getElementById(outputId);\n",
              "  // Cache steps on the outputElement to make it available for the next call\n",
              "  // to uploadFilesContinue from Python.\n",
              "  outputElement.steps = steps;\n",
              "\n",
              "  return _uploadFilesContinue(outputId);\n",
              "}\n",
              "\n",
              "// This is roughly an async generator (not supported in the browser yet),\n",
              "// where there are multiple asynchronous steps and the Python side is going\n",
              "// to poll for completion of each step.\n",
              "// This uses a Promise to block the python side on completion of each step,\n",
              "// then passes the result of the previous step as the input to the next step.\n",
              "function _uploadFilesContinue(outputId) {\n",
              "  const outputElement = document.getElementById(outputId);\n",
              "  const steps = outputElement.steps;\n",
              "\n",
              "  const next = steps.next(outputElement.lastPromiseValue);\n",
              "  return Promise.resolve(next.value.promise).then((value) => {\n",
              "    // Cache the last promise value to make it available to the next\n",
              "    // step of the generator.\n",
              "    outputElement.lastPromiseValue = value;\n",
              "    return next.value.response;\n",
              "  });\n",
              "}\n",
              "\n",
              "/**\n",
              " * Generator function which is called between each async step of the upload\n",
              " * process.\n",
              " * @param {string} inputId Element ID of the input file picker element.\n",
              " * @param {string} outputId Element ID of the output display.\n",
              " * @return {!Iterable<!Object>} Iterable of next steps.\n",
              " */\n",
              "function* uploadFilesStep(inputId, outputId) {\n",
              "  const inputElement = document.getElementById(inputId);\n",
              "  inputElement.disabled = false;\n",
              "\n",
              "  const outputElement = document.getElementById(outputId);\n",
              "  outputElement.innerHTML = '';\n",
              "\n",
              "  const pickedPromise = new Promise((resolve) => {\n",
              "    inputElement.addEventListener('change', (e) => {\n",
              "      resolve(e.target.files);\n",
              "    });\n",
              "  });\n",
              "\n",
              "  const cancel = document.createElement('button');\n",
              "  inputElement.parentElement.appendChild(cancel);\n",
              "  cancel.textContent = 'Cancel upload';\n",
              "  const cancelPromise = new Promise((resolve) => {\n",
              "    cancel.onclick = () => {\n",
              "      resolve(null);\n",
              "    };\n",
              "  });\n",
              "\n",
              "  // Wait for the user to pick the files.\n",
              "  const files = yield {\n",
              "    promise: Promise.race([pickedPromise, cancelPromise]),\n",
              "    response: {\n",
              "      action: 'starting',\n",
              "    }\n",
              "  };\n",
              "\n",
              "  cancel.remove();\n",
              "\n",
              "  // Disable the input element since further picks are not allowed.\n",
              "  inputElement.disabled = true;\n",
              "\n",
              "  if (!files) {\n",
              "    return {\n",
              "      response: {\n",
              "        action: 'complete',\n",
              "      }\n",
              "    };\n",
              "  }\n",
              "\n",
              "  for (const file of files) {\n",
              "    const li = document.createElement('li');\n",
              "    li.append(span(file.name, {fontWeight: 'bold'}));\n",
              "    li.append(span(\n",
              "        `(${file.type || 'n/a'}) - ${file.size} bytes, ` +\n",
              "        `last modified: ${\n",
              "            file.lastModifiedDate ? file.lastModifiedDate.toLocaleDateString() :\n",
              "                                    'n/a'} - `));\n",
              "    const percent = span('0% done');\n",
              "    li.appendChild(percent);\n",
              "\n",
              "    outputElement.appendChild(li);\n",
              "\n",
              "    const fileDataPromise = new Promise((resolve) => {\n",
              "      const reader = new FileReader();\n",
              "      reader.onload = (e) => {\n",
              "        resolve(e.target.result);\n",
              "      };\n",
              "      reader.readAsArrayBuffer(file);\n",
              "    });\n",
              "    // Wait for the data to be ready.\n",
              "    let fileData = yield {\n",
              "      promise: fileDataPromise,\n",
              "      response: {\n",
              "        action: 'continue',\n",
              "      }\n",
              "    };\n",
              "\n",
              "    // Use a chunked sending to avoid message size limits. See b/62115660.\n",
              "    let position = 0;\n",
              "    do {\n",
              "      const length = Math.min(fileData.byteLength - position, MAX_PAYLOAD_SIZE);\n",
              "      const chunk = new Uint8Array(fileData, position, length);\n",
              "      position += length;\n",
              "\n",
              "      const base64 = btoa(String.fromCharCode.apply(null, chunk));\n",
              "      yield {\n",
              "        response: {\n",
              "          action: 'append',\n",
              "          file: file.name,\n",
              "          data: base64,\n",
              "        },\n",
              "      };\n",
              "\n",
              "      let percentDone = fileData.byteLength === 0 ?\n",
              "          100 :\n",
              "          Math.round((position / fileData.byteLength) * 100);\n",
              "      percent.textContent = `${percentDone}% done`;\n",
              "\n",
              "    } while (position < fileData.byteLength);\n",
              "  }\n",
              "\n",
              "  // All done.\n",
              "  yield {\n",
              "    response: {\n",
              "      action: 'complete',\n",
              "    }\n",
              "  };\n",
              "}\n",
              "\n",
              "scope.google = scope.google || {};\n",
              "scope.google.colab = scope.google.colab || {};\n",
              "scope.google.colab._files = {\n",
              "  _uploadFiles,\n",
              "  _uploadFilesContinue,\n",
              "};\n",
              "})(self);\n",
              "</script> "
            ]
          },
          "metadata": {}
        },
        {
          "output_type": "stream",
          "name": "stdout",
          "text": [
            "Saving Food_Delivery_Time_Prediction.csv to Food_Delivery_Time_Prediction.csv\n"
          ]
        }
      ]
    },
    {
      "cell_type": "markdown",
      "source": [
        " Step 1: Data Import and Cleaning"
      ],
      "metadata": {
        "id": "dzBLqzSP4Yim"
      }
    },
    {
      "cell_type": "markdown",
      "source": [
        "Load the dataset (Food_Delivery_Time_Prediction.csv) **&** Handle missing values through imputation"
      ],
      "metadata": {
        "id": "fqwO32a_B4uG"
      }
    },
    {
      "cell_type": "code",
      "source": [
        "# Import necessary libraries\n",
        "import pandas as pd\n",
        "import numpy as np\n",
        "from sklearn.preprocessing import LabelEncoder, MinMaxScaler\n",
        "from sklearn.model_selection import train_test_split\n",
        "from math import radians, sin, cos, sqrt, atan2\n",
        "\n",
        "# Load dataset\n",
        "df = pd.read_csv('/content/Food_Delivery_Time_Prediction.csv')\n",
        "\n",
        "# Display basic info\n",
        "print(\"Initial Data Summary:\")\n",
        "print(df.info())\n",
        "\n",
        "\n",
        "# Handle missing values\n",
        "\n",
        "# Fill missing numeric values with median\n",
        "numeric_cols = df.select_dtypes(include=[np.number]).columns\n",
        "df[numeric_cols] = df[numeric_cols].fillna(df[numeric_cols].median())\n",
        "\n",
        "# Fill missing categorical values with mode\n",
        "categorical_cols = df.select_dtypes(include=[object]).columns\n",
        "df[categorical_cols] = df[categorical_cols].fillna(df[categorical_cols].mode().iloc[0])"
      ],
      "metadata": {
        "colab": {
          "base_uri": "https://localhost:8080/"
        },
        "id": "yIragwFU4gPS",
        "outputId": "1b91905d-3065-4463-ec20-fff9d77d9027"
      },
      "execution_count": null,
      "outputs": [
        {
          "output_type": "stream",
          "name": "stdout",
          "text": [
            "Initial Data Summary:\n",
            "<class 'pandas.core.frame.DataFrame'>\n",
            "RangeIndex: 200 entries, 0 to 199\n",
            "Data columns (total 15 columns):\n",
            " #   Column                      Non-Null Count  Dtype  \n",
            "---  ------                      --------------  -----  \n",
            " 0   Order_ID                    200 non-null    object \n",
            " 1   Customer_Location           200 non-null    object \n",
            " 2   Restaurant_Location         200 non-null    object \n",
            " 3   Distance                    200 non-null    float64\n",
            " 4   Weather_Conditions          200 non-null    object \n",
            " 5   Traffic_Conditions          200 non-null    object \n",
            " 6   Delivery_Person_Experience  200 non-null    int64  \n",
            " 7   Order_Priority              200 non-null    object \n",
            " 8   Order_Time                  200 non-null    object \n",
            " 9   Vehicle_Type                200 non-null    object \n",
            " 10  Restaurant_Rating           200 non-null    float64\n",
            " 11  Customer_Rating             200 non-null    float64\n",
            " 12  Delivery_Time               200 non-null    float64\n",
            " 13  Order_Cost                  200 non-null    float64\n",
            " 14  Tip_Amount                  200 non-null    float64\n",
            "dtypes: float64(6), int64(1), object(8)\n",
            "memory usage: 23.6+ KB\n",
            "None\n"
          ]
        }
      ]
    },
    {
      "cell_type": "markdown",
      "source": [
        "Encode categorical features (e.g., weather, traffic, and vehicle type) using LabelEncoder  **&** Normalize continuous features such as distance and delivery time"
      ],
      "metadata": {
        "id": "eRWD2K0XCLax"
      }
    },
    {
      "cell_type": "markdown",
      "source": [
        "Step 2: Feature Engineering:"
      ],
      "metadata": {
        "id": "6kBlc4tO_CO1"
      }
    },
    {
      "cell_type": "markdown",
      "source": [
        "Calculate the geographic distance between the customer and restaurant using latitude and longitude (Haversine formula)"
      ],
      "metadata": {
        "id": "e6HQNDFE_X_Q"
      }
    },
    {
      "cell_type": "code",
      "source": [
        "# Feature Engineering\n",
        "\n",
        "# Helper function to calculate distance using the Haversine formula\n",
        "def haversine(coord1, coord2):\n",
        "    R = 6371  # Radius of the Earth in kilometers\n",
        "    lat1, lon1 = map(radians, coord1)\n",
        "    lat2, lon2 = map(radians, coord2)\n",
        "\n",
        "    dlat = lat2 - lat1\n",
        "    dlon = lon2 - lon1\n",
        "\n",
        "    a = sin(dlat/2)**2 + cos(lat1) * cos(lat2) * sin(dlon/2)**2\n",
        "    c = 2 * atan2(sqrt(a), sqrt(1 - a))\n",
        "\n",
        "    return R * c\n",
        "\n",
        "# Parse coordinates and calculate geographic distance\n",
        "# Add a check to see if the column exists before applying eval\n",
        "if 'Customer_Location' in df.columns and 'Restaurant_Location' in df.columns:\n",
        "    df['Customer_Location'] = df['Customer_Location'].apply(eval)\n",
        "    df['Restaurant_Location'] = df['Restaurant_Location'].apply(eval)\n",
        "    df['Geo_Distance'] = df.apply(lambda row: haversine(row['Customer_Location'], row['Restaurant_Location']), axis=1)\n",
        "\n",
        "    # Drop original location columns\n",
        "    df.drop(['Customer_Location', 'Restaurant_Location'], axis=1, inplace=True)\n",
        "else:\n",
        "    print(\"Error: 'Customer_Location' or 'Restaurant_Location' column not found in the DataFrame.\")\n",
        "    # You might want to add additional error handling here, like exiting or skipping\n",
        "\n",
        "# Encode categorical features\n",
        "\n",
        "label_enc = LabelEncoder()\n",
        "# Add a check to see if columns exist before trying to encode\n",
        "cols_to_encode = ['Weather_Conditions', 'Traffic_Conditions', 'Order_Priority', 'Order_Time', 'Vehicle_Type']\n",
        "for col in cols_to_encode:\n",
        "    if col in df.columns:\n",
        "        df[col] = label_enc.fit_transform(df[col])\n",
        "    else:\n",
        "        print(f\"Warning: Column '{col}' not found for encoding.\")\n"
      ],
      "metadata": {
        "colab": {
          "base_uri": "https://localhost:8080/"
        },
        "id": "THeORgFg_5S0",
        "outputId": "2bdef850-aa53-4965-9c21-c98a2f14dc63"
      },
      "execution_count": null,
      "outputs": [
        {
          "output_type": "stream",
          "name": "stdout",
          "text": [
            "Error: 'Customer_Location' or 'Restaurant_Location' column not found in the DataFrame.\n"
          ]
        }
      ]
    },
    {
      "cell_type": "markdown",
      "source": [
        "Create binary categories based on delivery time (e.g., 1 for delayed and 0 for fast)"
      ],
      "metadata": {
        "id": "9dBMSfDrANL0"
      }
    },
    {
      "cell_type": "code",
      "source": [
        "# Create binary target variable\n",
        "\n",
        "# Threshold for \"Delayed\" can be the median delivery time\n",
        "threshold = df['Delivery_Time'].median()\n",
        "df['Delivery_Status'] = df['Delivery_Time'].apply(lambda x: 1 if x > threshold else 0)\n",
        "\n",
        "\n",
        "# Normalize continuous features\n",
        "\n",
        "scaler = MinMaxScaler()\n",
        "to_normalize = ['Geo_Distance', 'Distance', 'Delivery_Time', 'Order_Cost', 'Tip_Amount']\n",
        "df[to_normalize] = scaler.fit_transform(df[to_normalize])\n",
        "\n",
        "\n",
        "# Final feature set\n",
        "\n",
        "X = df.drop(['Order_ID', 'Delivery_Status'], axis=1)\n",
        "y = df['Delivery_Status']\n",
        "\n",
        "# Split the dataset\n",
        "X_train, X_test, y_train, y_test = train_test_split(X, y, test_size=0.2, random_state=42)\n",
        "\n",
        "# Preview final data\n",
        "print(\"\\nProcessed Features Sample:\")\n",
        "print(X_train.head())\n",
        "\n"
      ],
      "metadata": {
        "colab": {
          "base_uri": "https://localhost:8080/"
        },
        "id": "rOGdkvdCDn2G",
        "outputId": "94739b3e-9c10-43c6-b691-e037efb0db9a"
      },
      "execution_count": null,
      "outputs": [
        {
          "output_type": "stream",
          "name": "stdout",
          "text": [
            "\n",
            "Processed Features Sample:\n",
            "     Distance  Weather_Conditions  Traffic_Conditions  \\\n",
            "79   0.973749                   2                   0   \n",
            "197  0.824036                   2                   0   \n",
            "38   0.175144                   3                   1   \n",
            "24   0.432322                   3                   2   \n",
            "122  0.373257                   3                   2   \n",
            "\n",
            "     Delivery_Person_Experience  Order_Priority  Order_Time  Vehicle_Type  \\\n",
            "79                            7               0           0             0   \n",
            "197                           4               2           0             1   \n",
            "38                            9               2           0             2   \n",
            "24                            5               2           1             1   \n",
            "122                           9               0           3             0   \n",
            "\n",
            "     Restaurant_Rating  Customer_Rating  Delivery_Time  Order_Cost  \\\n",
            "79                 4.6              2.8       0.352355    0.484134   \n",
            "197                2.9              3.4       0.555056    0.658241   \n",
            "38                 3.9              3.3       0.423114    0.171178   \n",
            "24                 3.1              4.6       0.865282    0.941657   \n",
            "122                3.7              3.1       0.910283    0.045944   \n",
            "\n",
            "     Tip_Amount  Geo_Distance  \n",
            "79     0.845381      0.346294  \n",
            "197    0.039188      0.060514  \n",
            "38     0.036142      0.465708  \n",
            "24     0.207107      0.573861  \n",
            "122    0.159492      0.436249  \n"
          ]
        }
      ]
    },
    {
      "cell_type": "markdown",
      "source": [
        "**Phase 2: Classification using Naive Bayes, K-Nearest Neighbors, and Decision Tree**"
      ],
      "metadata": {
        "id": "r1EF2_JQECnG"
      }
    },
    {
      "cell_type": "markdown",
      "source": [
        "Step 3: Naive Bayes Classifie"
      ],
      "metadata": {
        "id": "Km_lT-UQEQMU"
      }
    },
    {
      "cell_type": "markdown",
      "source": [
        "Apply the Gaussian Naive Bayes classifier, which is suitable for continuous features, to predict the binary class of delivery status (fast or delayed)  **&**  Evaluation Metrics: Accuracy, Confusion Matrix, Precision, Recall, F1-score."
      ],
      "metadata": {
        "id": "R1Yqo7g0EjUC"
      }
    },
    {
      "cell_type": "code",
      "source": [
        "# Import necessary libraries\n",
        "from sklearn.naive_bayes import GaussianNB\n",
        "from sklearn.neighbors import KNeighborsClassifier\n",
        "from sklearn.tree import DecisionTreeClassifier\n",
        "from sklearn.model_selection import GridSearchCV\n",
        "from sklearn.metrics import accuracy_score, confusion_matrix, classification_report\n",
        "\n",
        "# Dictionary to store results\n",
        "results = {}\n",
        "\n",
        "\n",
        "#Naive Bayes\n",
        "\n",
        "nb_model = GaussianNB()\n",
        "nb_model.fit(X_train, y_train)\n",
        "y_pred_nb = nb_model.predict(X_test)\n",
        "\n",
        "print(\"Naive Bayes Results:\")\n",
        "print(\"Accuracy:\", accuracy_score(y_test, y_pred_nb))\n",
        "print(\"Confusion Matrix:\\n\", confusion_matrix(y_test, y_pred_nb))\n",
        "print(\"Classification Report:\\n\", classification_report(y_test, y_pred_nb))\n",
        "\n",
        "# Save to results\n",
        "results['Naive Bayes'] = {\n",
        "    'Accuracy': accuracy_score(y_test, y_pred_nb),\n",
        "    'Confusion Matrix': confusion_matrix(y_test, y_pred_nb),\n",
        "    'Classification Report': classification_report(y_test, y_pred_nb, output_dict=True)\n",
        "}"
      ],
      "metadata": {
        "colab": {
          "base_uri": "https://localhost:8080/"
        },
        "id": "OrgFvaTsErp9",
        "outputId": "200828a8-8240-4f99-aa78-f2ecf74da583"
      },
      "execution_count": null,
      "outputs": [
        {
          "output_type": "stream",
          "name": "stdout",
          "text": [
            "Naive Bayes Results:\n",
            "Accuracy: 1.0\n",
            "Confusion Matrix:\n",
            " [[19  0]\n",
            " [ 0 21]]\n",
            "Classification Report:\n",
            "               precision    recall  f1-score   support\n",
            "\n",
            "           0       1.00      1.00      1.00        19\n",
            "           1       1.00      1.00      1.00        21\n",
            "\n",
            "    accuracy                           1.00        40\n",
            "   macro avg       1.00      1.00      1.00        40\n",
            "weighted avg       1.00      1.00      1.00        40\n",
            "\n"
          ]
        }
      ]
    },
    {
      "cell_type": "markdown",
      "source": [
        "Step 4: K-Nearest Neighbors (KNN)"
      ],
      "metadata": {
        "id": "BksOZALmE38n"
      }
    },
    {
      "cell_type": "code",
      "source": [
        "# 2. K-Nearest Neighbors\n",
        "\n",
        "# Tune K from 1 to 20\n",
        "knn_params = {'n_neighbors': list(range(1, 21))}\n",
        "knn_model = KNeighborsClassifier()\n",
        "knn_grid = GridSearchCV(knn_model, knn_params, cv=5, scoring='accuracy')\n",
        "knn_grid.fit(X_train, y_train)\n",
        "\n",
        "# Best K\n",
        "best_knn = knn_grid.best_estimator_\n",
        "y_pred_knn = best_knn.predict(X_test)\n",
        "\n",
        "print(\"\\nKNN Results (Best K =\", knn_grid.best_params_['n_neighbors'], \"):\")\n",
        "print(\"Accuracy:\", accuracy_score(y_test, y_pred_knn))\n",
        "print(\"Confusion Matrix:\\n\", confusion_matrix(y_test, y_pred_knn))\n",
        "print(\"Classification Report:\\n\", classification_report(y_test, y_pred_knn))\n",
        "\n",
        "# Save to results\n",
        "results['KNN'] = {\n",
        "    'Best K': knn_grid.best_params_['n_neighbors'],\n",
        "    'Accuracy': accuracy_score(y_test, y_pred_knn),\n",
        "    'Confusion Matrix': confusion_matrix(y_test, y_pred_knn),\n",
        "    'Classification Report': classification_report(y_test, y_pred_knn, output_dict=True)\n",
        "}"
      ],
      "metadata": {
        "colab": {
          "base_uri": "https://localhost:8080/"
        },
        "id": "H3q86CknE-Rp",
        "outputId": "e4174fed-2dcb-4670-dade-c000c0adde77"
      },
      "execution_count": null,
      "outputs": [
        {
          "output_type": "stream",
          "name": "stdout",
          "text": [
            "\n",
            "KNN Results (Best K = 2 ):\n",
            "Accuracy: 0.45\n",
            "Confusion Matrix:\n",
            " [[14  5]\n",
            " [17  4]]\n",
            "Classification Report:\n",
            "               precision    recall  f1-score   support\n",
            "\n",
            "           0       0.45      0.74      0.56        19\n",
            "           1       0.44      0.19      0.27        21\n",
            "\n",
            "    accuracy                           0.45        40\n",
            "   macro avg       0.45      0.46      0.41        40\n",
            "weighted avg       0.45      0.45      0.41        40\n",
            "\n"
          ]
        }
      ]
    },
    {
      "cell_type": "markdown",
      "source": [
        "Step 5: Decision Tree"
      ],
      "metadata": {
        "id": "nIKj49ZGFIC5"
      }
    },
    {
      "cell_type": "code",
      "source": [
        "#Decision Tree\n",
        "\n",
        "# Tune max_depth and min_samples_split\n",
        "dt_params = {\n",
        "    'max_depth': list(range(3, 11)),\n",
        "    'min_samples_split': [2, 5, 10]\n",
        "}\n",
        "dt_model = DecisionTreeClassifier(random_state=42)\n",
        "dt_grid = GridSearchCV(dt_model, dt_params, cv=5, scoring='accuracy')\n",
        "dt_grid.fit(X_train, y_train)\n",
        "\n",
        "# Best model\n",
        "best_dt = dt_grid.best_estimator_\n",
        "y_pred_dt = best_dt.predict(X_test)\n",
        "\n",
        "print(\"\\nDecision Tree Results (Best Params):\", dt_grid.best_params_)\n",
        "print(\"Accuracy:\", accuracy_score(y_test, y_pred_dt))\n",
        "print(\"Confusion Matrix:\\n\", confusion_matrix(y_test, y_pred_dt))\n",
        "print(\"Classification Report:\\n\", classification_report(y_test, y_pred_dt))\n",
        "\n",
        "# Save to results\n",
        "results['Decision Tree'] = {\n",
        "    'Best Params': dt_grid.best_params_,\n",
        "    'Accuracy': accuracy_score(y_test, y_pred_dt),\n",
        "    'Confusion Matrix': confusion_matrix(y_test, y_pred_dt),\n",
        "    'Classification Report': classification_report(y_test, y_pred_dt, output_dict=True)\n",
        "}\n"
      ],
      "metadata": {
        "colab": {
          "base_uri": "https://localhost:8080/"
        },
        "id": "T78s7Ts4FNGD",
        "outputId": "4dbb43c3-351f-4d50-b668-8ed9700e9855"
      },
      "execution_count": null,
      "outputs": [
        {
          "output_type": "stream",
          "name": "stdout",
          "text": [
            "\n",
            "Decision Tree Results (Best Params): {'max_depth': 3, 'min_samples_split': 2}\n",
            "Accuracy: 0.975\n",
            "Confusion Matrix:\n",
            " [[19  0]\n",
            " [ 1 20]]\n",
            "Classification Report:\n",
            "               precision    recall  f1-score   support\n",
            "\n",
            "           0       0.95      1.00      0.97        19\n",
            "           1       1.00      0.95      0.98        21\n",
            "\n",
            "    accuracy                           0.97        40\n",
            "   macro avg       0.97      0.98      0.97        40\n",
            "weighted avg       0.98      0.97      0.98        40\n",
            "\n"
          ]
        }
      ]
    },
    {
      "cell_type": "markdown",
      "source": [
        "**Phase 3: Reporting and Insights**"
      ],
      "metadata": {
        "id": "N_-Jlrd6JBtN"
      }
    },
    {
      "cell_type": "markdown",
      "source": [],
      "metadata": {
        "id": "U9GKV1T0JuXT"
      }
    },
    {
      "cell_type": "code",
      "source": [
        "# Import required libraries\n",
        "import pandas as pd\n",
        "import numpy as np\n",
        "import seaborn as sns\n",
        "import matplotlib.pyplot as plt\n",
        "\n",
        "from sklearn.model_selection import train_test_split\n",
        "from sklearn.preprocessing import LabelEncoder, StandardScaler\n",
        "from sklearn.naive_bayes import GaussianNB\n",
        "from sklearn.neighbors import KNeighborsClassifier\n",
        "from sklearn.tree import DecisionTreeClassifier\n",
        "from sklearn.metrics import confusion_matrix, classification_report, accuracy_score, roc_curve, auc\n",
        "\n",
        "# Load the dataset\n",
        "df = pd.read_csv('/content/Food_Delivery_Time_Prediction.csv')  # Adjust path if needed\n",
        "\n",
        "# Drop irrelevant columns\n",
        "df.drop(columns=['Order_ID'], inplace=True)\n",
        "\n",
        "# Fill missing values using mode for simplicity\n",
        "df.fillna(df.mode().iloc[0], inplace=True)\n",
        "\n",
        "# Label encode all categorical columns\n",
        "le = LabelEncoder()\n",
        "for col in df.select_dtypes(include='object').columns:\n",
        "    df[col] = le.fit_transform(df[col])\n",
        "\n",
        "# Create binary target: 1 = Delayed, 0 = Fast (based on median delivery time)\n",
        "df['Delivery_Status'] = df['Delivery_Time'].apply(lambda x: 1 if x > df['Delivery_Time'].median() else 0)\n",
        "\n",
        "# Define features (X) and target (y)\n",
        "X = df.drop(columns=['Delivery_Status', 'Delivery_Time'])\n",
        "y = df['Delivery_Status']\n",
        "\n",
        "# Normalize features\n",
        "scaler = StandardScaler()\n",
        "X_scaled = scaler.fit_transform(X)\n",
        "\n",
        "# Train-test split\n",
        "X_train, X_test, y_train, y_test = train_test_split(X_scaled, y, test_size=0.2, random_state=42)"
      ],
      "metadata": {
        "id": "ab2o0iWfJu4S"
      },
      "execution_count": 30,
      "outputs": []
    },
    {
      "cell_type": "markdown",
      "source": [],
      "metadata": {
        "id": "eCyYxTnUKNPA"
      }
    },
    {
      "cell_type": "code",
      "source": [
        "# Naive Bayes\n",
        "nb_model = GaussianNB()\n",
        "nb_model.fit(X_train, y_train)\n",
        "y_pred_nb = nb_model.predict(X_test)\n",
        "y_score_nb = nb_model.predict_proba(X_test)[:, 1]\n",
        "\n",
        "# KNN\n",
        "knn_model = KNeighborsClassifier(n_neighbors=5)\n",
        "knn_model.fit(X_train, y_train)\n",
        "y_pred_knn = knn_model.predict(X_test)\n",
        "y_score_knn = knn_model.predict_proba(X_test)[:, 1]\n",
        "\n",
        "# Decision Tree\n",
        "dt_model = DecisionTreeClassifier(max_depth=6, min_samples_split=5, random_state=42)\n",
        "dt_model.fit(X_train, y_train)\n",
        "y_pred_dt = dt_model.predict(X_test)\n",
        "y_score_dt = dt_model.predict_proba(X_test)[:, 1]\n",
        "\n",
        "def evaluate_model(name, y_true, y_pred):\n",
        "    print(f\"\\n{name} Results:\")\n",
        "    print(\"Accuracy:\", accuracy_score(y_true, y_pred))\n",
        "    print(\"Confusion Matrix:\\n\", confusion_matrix(y_true, y_pred))\n",
        "    print(\"Classification Report:\\n\", classification_report(y_true, y_pred))\n",
        "\n",
        "evaluate_model(\"Naive Bayes\", y_test, y_pred_nb)\n",
        "evaluate_model(\"KNN\", y_test, y_pred_knn)\n",
        "evaluate_model(\"Decision Tree\", y_test, y_pred_dt)\n",
        "\n"
      ],
      "metadata": {
        "colab": {
          "base_uri": "https://localhost:8080/"
        },
        "id": "WypAY02BKNhv",
        "outputId": "688c3836-d482-4b66-e1de-038970158541"
      },
      "execution_count": 33,
      "outputs": [
        {
          "output_type": "stream",
          "name": "stdout",
          "text": [
            "\n",
            "Naive Bayes Results:\n",
            "Accuracy: 0.525\n",
            "Confusion Matrix:\n",
            " [[10  9]\n",
            " [10 11]]\n",
            "Classification Report:\n",
            "               precision    recall  f1-score   support\n",
            "\n",
            "           0       0.50      0.53      0.51        19\n",
            "           1       0.55      0.52      0.54        21\n",
            "\n",
            "    accuracy                           0.53        40\n",
            "   macro avg       0.53      0.53      0.52        40\n",
            "weighted avg       0.53      0.53      0.53        40\n",
            "\n",
            "\n",
            "KNN Results:\n",
            "Accuracy: 0.5\n",
            "Confusion Matrix:\n",
            " [[11  8]\n",
            " [12  9]]\n",
            "Classification Report:\n",
            "               precision    recall  f1-score   support\n",
            "\n",
            "           0       0.48      0.58      0.52        19\n",
            "           1       0.53      0.43      0.47        21\n",
            "\n",
            "    accuracy                           0.50        40\n",
            "   macro avg       0.50      0.50      0.50        40\n",
            "weighted avg       0.51      0.50      0.50        40\n",
            "\n",
            "\n",
            "Decision Tree Results:\n",
            "Accuracy: 0.4\n",
            "Confusion Matrix:\n",
            " [[ 9 10]\n",
            " [14  7]]\n",
            "Classification Report:\n",
            "               precision    recall  f1-score   support\n",
            "\n",
            "           0       0.39      0.47      0.43        19\n",
            "           1       0.41      0.33      0.37        21\n",
            "\n",
            "    accuracy                           0.40        40\n",
            "   macro avg       0.40      0.40      0.40        40\n",
            "weighted avg       0.40      0.40      0.40        40\n",
            "\n"
          ]
        }
      ]
    },
    {
      "cell_type": "code",
      "source": [
        "#Confusion Matrix Plots\n",
        "def plot_conf_matrix(cm, title):\n",
        "    plt.figure(figsize=(4, 3))\n",
        "    sns.heatmap(cm, annot=True, fmt='d', cmap='Blues', cbar=False)\n",
        "    plt.title(f'Confusion Matrix - {title}')\n",
        "    plt.xlabel('Predicted')\n",
        "    plt.ylabel('Actual')\n",
        "    plt.show()\n",
        "\n",
        "plot_conf_matrix(confusion_matrix(y_test, y_pred_nb), \"Naive Bayes\")\n",
        "plot_conf_matrix(confusion_matrix(y_test, y_pred_knn), \"KNN\")\n",
        "plot_conf_matrix(confusion_matrix(y_test, y_pred_dt), \"Decision Tree\")\n",
        "\n"
      ],
      "metadata": {
        "colab": {
          "base_uri": "https://localhost:8080/",
          "height": 965
        },
        "id": "GQi76MyGLFrD",
        "outputId": "1ecc710f-e091-48d1-829a-05b809a41c83"
      },
      "execution_count": 34,
      "outputs": [
        {
          "output_type": "display_data",
          "data": {
            "text/plain": [
              "<Figure size 400x300 with 1 Axes>"
            ],
            "image/png": "[encoded data removed]"
          },
          "metadata": {}
        },
        {
          "output_type": "display_data",
          "data": {
            "text/plain": [
              "<Figure size 400x300 with 1 Axes>"
            ],
            "image/png": "[encoded data removed]"
          },
          "metadata": {}
        },
        {
          "output_type": "display_data",
          "data": {
            "text/plain": [
              "<Figure size 400x300 with 1 Axes>"
            ],
            "image/png": "[encoded data removed]"
          },
          "metadata": {}
        }
      ]
    },
    {
      "cell_type": "code",
      "source": [
        "#ROC Curve Plot\n",
        "fpr_nb, tpr_nb, _ = roc_curve(y_test, y_score_nb)\n",
        "fpr_knn, tpr_knn, _ = roc_curve(y_test, y_score_knn)\n",
        "fpr_dt, tpr_dt, _ = roc_curve(y_test, y_score_dt)\n",
        "\n",
        "auc_nb = auc(fpr_nb, tpr_nb)\n",
        "auc_knn = auc(fpr_knn, tpr_knn)\n",
        "auc_dt = auc(fpr_dt, tpr_dt)\n",
        "\n",
        "plt.figure(figsize=(8, 6))\n",
        "plt.plot(fpr_nb, tpr_nb, label=f\"Naive Bayes (AUC = {auc_nb:.2f})\")\n",
        "plt.plot(fpr_knn, tpr_knn, label=f\"KNN (AUC = {auc_knn:.2f})\")\n",
        "plt.plot(fpr_dt, tpr_dt, label=f\"Decision Tree (AUC = {auc_dt:.2f})\")\n",
        "plt.plot([0, 1], [0, 1], linestyle='--', color='grey')\n",
        "plt.title(\"ROC Curve Comparison\")\n",
        "plt.xlabel(\"False Positive Rate\")\n",
        "plt.ylabel(\"True Positive Rate\")\n",
        "plt.legend()\n",
        "plt.grid()\n",
        "plt.show()"
      ],
      "metadata": {
        "colab": {
          "base_uri": "https://localhost:8080/",
          "height": 564
        },
        "id": "or9_o_n_LHhZ",
        "outputId": "e780e0c2-596c-441d-a064-128546148246"
      },
      "execution_count": 35,
      "outputs": [
        {
          "output_type": "display_data",
          "data": {
            "text/plain": [
              "<Figure size 800x600 with 1 Axes>"
            ],
            "image/png": "[encoded data removed]"
          },
          "metadata": {}
        }
      ]
    }
  ],
  "metadata": {
    "colab": {
      "provenance": []
    },
    "kernelspec": {
      "display_name": "Python 3",
      "name": "python3"
    },
    "language_info": {
      "name": "python"
    }
  },
  "nbformat": 4,
  "nbformat_minor": 0
}